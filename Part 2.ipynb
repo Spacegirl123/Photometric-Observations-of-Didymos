{
 "cells": [
  {
   "cell_type": "markdown",
   "metadata": {},
   "source": [
    "-----------------------------------------------"
   ]
  },
  {
   "cell_type": "markdown",
   "metadata": {},
   "source": [
    "# Photometry Observations of Didymos Asteroid (Part 2)"
   ]
  },
  {
   "cell_type": "markdown",
   "metadata": {},
   "source": [
    "## By Arushi Nath, Founder: MonitorMyPlanet.com"
   ]
  },
  {
   "cell_type": "markdown",
   "metadata": {},
   "source": [
    "----------------------------------"
   ]
  },
  {
   "cell_type": "markdown",
   "metadata": {},
   "source": [
    "#### This Second Notebook will take you through the first steps of differential photometry. Here, the algorithm will be finding the aperture radius that best fits Didymos's size (in pixels) in the images. The chosen aperture radius will then be used to find the total pixel brightness of all stars in the image. Background camera noise will be acounted by creating an outer annulus (ring) around each celestial object and measuring the average background brightness around the star. It will then substract that from the total pixel brightness to get the star's actual pixel brightness. Comparison stars will then be found to account for change in seeing conditions during an observation. Stars are selected as comparison stars only if their brightness is similar to Didymos and "
   ]
  },
  {
   "cell_type": "markdown",
   "metadata": {},
   "source": [
    "------------------------------"
   ]
  },
  {
   "cell_type": "markdown",
   "metadata": {},
   "source": [
    "### 1. Testing Out Different Aperture Sizes on Didymos"
   ]
  },
  {
   "cell_type": "code",
   "execution_count": null,
   "metadata": {
    "scrolled": true
   },
   "outputs": [],
   "source": [
    "Total_Brightness_ast = []\n",
    "Brightness_ast = []\n",
    "ast_single = []\n",
    "\n",
    "start = 4\n",
    "end = 14\n",
    "Per_p = 16\n",
    "X_axis = []\n",
    "\n",
    "for img in tqdm(range(len(images))): # Loop through each image\n",
    "    centroids_ast = np.array(find_complete_star(images[img], didymos_x, didymos_y))\n",
    "    X_axis = []\n",
    "    for tp in tqdm(range((end-start)*Per_p)):\n",
    "        t = start\n",
    "        ap=tp/Per_p + start\n",
    "        X_axis.append(ap)\n",
    "\n",
    "        NEW_IMAGE = images[img]\n",
    "\n",
    "        coord_edit_ast = []\n",
    "        coord_edit_ast.append(centroids_ast[img])\n",
    "\n",
    "        data = NEW_IMAGE\n",
    "        norm_ast = simple_norm(data, 'sqrt', percent=99)\n",
    "\n",
    "        positions_ast = [x for x in coord_edit_ast if 'nan' not in str(x)]\n",
    "       \n",
    "\n",
    "        aperture_ast = CircularAperture(positions_ast, r=ap)\n",
    "        annulus_aperture_ast = CircularAnnulus(positions_ast, r_in=ap+8, r_out=ap+12)\n",
    "        \n",
    "        ap_patches = aperture_ast.plot(color='white', lw=2)\n",
    "        ann_patches = annulus_aperture_ast.plot(color='red', lw=2)\n",
    "        \n",
    "        aperstats = ApertureStats(data, annulus_aperture_ast)\n",
    "        bkg_mean = aperstats.mean\n",
    "\n",
    "        phot_table = aperture_photometry(data, aperture_ast)\n",
    "        for col in phot_table.colnames:\n",
    "            phot_table[col].info.format = '%.8g'  # for consistent table output\n",
    "\n",
    "        aperture_area = aperture_ast.area_overlap(data)\n",
    "        total_bkg = bkg_mean * aperture_area\n",
    "    \n",
    "        phot_bkgsub = phot_table['aperture_sum'] - total_bkg\n",
    "    \n",
    "        phot_table['total_bkg'] = total_bkg\n",
    "        phot_table['aperture_sum_bkgsub'] = phot_bkgsub\n",
    "        for col in phot_table.colnames:\n",
    "            phot_table[col].info.format = '%.8g' \n",
    "     \n",
    "        for i in phot_table:\n",
    "            ast_single.append(i[5])\n",
    "   \n",
    "        Brightness_ast.append(ast_single)\n",
    "        ast_single = []\n",
    "      \n",
    "    Total_Brightness_ast.append([Brightness_ast])\n",
    "    Brightness_ast = []\n"
   ]
  },
  {
   "cell_type": "code",
   "execution_count": null,
   "metadata": {},
   "outputs": [],
   "source": [
    "### Re-aranging the Values by Image instead of Aperture Size ###\n",
    "total_ast= []\n",
    "for n in range(len(Total_Brightness_ast[0][0][0])):\n",
    "    semi_star = []\n",
    "    for s in range(len(Total_Brightness_ast)):\n",
    "\n",
    "        for i in Total_Brightness_ast[s][0]:\n",
    "    total_ast.append(semi_ast) "
   ]
  },
  {
   "cell_type": "code",
   "execution_count": null,
   "metadata": {
    "scrolled": true
   },
   "outputs": [],
   "source": [
    "### Plotting the Pixel Brightness of Didymos With Different Aperture Sizes in each Image ###\n",
    "for i in range(len(total_ast)):\n",
    "    for h in range(len(total_ast[i])):\n",
    "        plt.plot(X_axis,total_ast[i][h])\n",
    "    plt.title(\"Change in Sum of the Brightness of Pixels Captured with Varying Aperture Size of Star Across all Images in Observation\")\n",
    "    plt.xlabel(\"Aperture Size (Pixels)\")\n",
    "    plt.ylabel(\"Total Brightness\")\n",
    "    plt.show()"
   ]
  },
  {
   "cell_type": "markdown",
   "metadata": {},
   "source": [
    "### 2. Finding Which Aperture Size Worked the Best with Didymos"
   ]
  },
  {
   "cell_type": "code",
   "execution_count": null,
   "metadata": {},
   "outputs": [],
   "source": [
    "### Functions used to Find at what Aperture the above Plots have a Slope of 1 ###\n",
    "\n",
    "def derivative(x):    \n",
    "    params = list(model5)[:-1]\n",
    "   \n",
    "    a = 5*params[0]\n",
    "    b = 4*params[1]\n",
    "    c = 3*params[2]\n",
    "    d = 2*params[3]\n",
    "    e = 1*params[4]\n",
    "    return a*(x**4) + b*(x**3) + c*(x**2) + d*(x**1) + e\n",
    "\n",
    "def find_nearest(array, value):\n",
    "    array = np.asarray(array)[0:int(len(array))]\n",
    "    idx = (np.abs(array - value)).argmin()\n",
    "    return idx"
   ]
  },
  {
   "cell_type": "code",
   "execution_count": null,
   "metadata": {
    "scrolled": true
   },
   "outputs": [],
   "source": [
    "### This uses the Pixel Brightness of Didymos With Different Aperture Sizes Graph and Gind for each Image their 5th Order Curve Fit ###\n",
    "### It then uses the Functions above to Find the Ideal Aperture radius for each Image ###\n",
    "\n",
    "apertures = []\n",
    "\n",
    "for i in tqdm(range(len(total_ast))):\n",
    "    for h in tqdm(range(len(total_ast[i]))):\n",
    "        x = X_axis\n",
    "        y = total_ast[i][h]\n",
    "        df = pd.DataFrame({'x': x,\n",
    "                           'y': y})\n",
    "        \n",
    "        model5 = np.poly1d(np.polyfit(df.x, df.y, 5)) #fit polynomial models up to degree 5\n",
    "\n",
    "        polyline = np.linspace(start, end, 500000)\n",
    "        plt.scatter(df.x, df.y)\n",
    "\n",
    "        plt.plot(polyline, model5(polyline), color='orange')\n",
    "        plt.show()\n",
    "        \n",
    "        slopes = [derivative(i) for i in polyline]\n",
    "        slopes = np.array(slopes)\n",
    "        \n",
    "        plt.plot(polyline, slopes)\n",
    "        \n",
    "        sh_a = find_nearest(slopes, 1)\n",
    "    \n",
    "        plt.scatter(polyline[sh_a], slopes[sh_a], color='r')\n",
    "        plt.show()\n",
    "        \n",
    "        plt.plot(polyline, model5(polyline), color='orange')\n",
    "        plt.scatter(polyline[sh_a], model5(polyline)[sh_a], color='r')\n",
    "        plt.show()\n",
    "        apertures.append(polyline[sh_a])"
   ]
  },
  {
   "cell_type": "code",
   "execution_count": null,
   "metadata": {},
   "outputs": [],
   "source": [
    "#### Creating a Bar Graph to Show the Best Aperture Radius (Pixels) found for each image ###\n",
    "z = []\n",
    "for i in range(len(apertures)):\n",
    "    z.append(i)\n",
    "    \n",
    "plt.figure(figsize=(5, 4))\n",
    "\n",
    "plt.bar(z,apertures)\n",
    "plt.title(\"Best Aperture Sizes Determined for each Image in Observation\")\n",
    "plt.xlabel(\"Image Number\")\n",
    "plt.ylabel(\"Aperture Size (Pixels)\")"
   ]
  },
  {
   "cell_type": "code",
   "execution_count": null,
   "metadata": {},
   "outputs": [],
   "source": [
    "### Finding the Average Aperture radius for all images ###\n",
    "### The average is the Aperture radius that will be used for all Photometry ###\n",
    "ast_aperture = np.mean(apertures)"
   ]
  },
  {
   "cell_type": "markdown",
   "metadata": {},
   "source": [
    "### 3. Finding the Total Pixel Brightness of all Stars in the Image using the Aperture Radius Found"
   ]
  },
  {
   "cell_type": "code",
   "execution_count": null,
   "metadata": {},
   "outputs": [],
   "source": [
    "### For each Image the Code follows the Following steps: ###\n",
    "### 1. Take the Centroided Positions of all Stars in the Image (Covered in more detail in Part 1) ###\n",
    "### 2. For each Star, Create a Circle around its Center with the Aperture Radius we have just Determined ###\n",
    "### 3. Add the Pixel Brightness of all Pixels in the Circle. Lets call the Resultant Number T###\n",
    "### 4. Create a Ring Around the Star, and find the Average Pixel Value inside that Ring. This will be the Average Noise per Pixel ###\n",
    "### 5. Multiply the Result of Step 4 by the Amount of Pixels Inside the Circle Created on Step 2. Lets call the resultant Number N ###\n",
    "### 6. T-N Will give you the Total Pixel Brightness of the Star ###\n",
    "### 7. Repeat Steps 2 to 6 for all Stars in the Image ###\n",
    "### 8. The Final Output will be the Total Brightness of All Stars, and how it Changes in each Image ###\n",
    "\n",
    "Total_Brightness = []\n",
    "Brightness = []\n",
    "star_magnitude = []\n",
    "centroids = np.array(find_complete_star(images[0], star_x,star_y))\n",
    "for img in tqdm(range(len(images))):\n",
    "\n",
    "        \n",
    "\n",
    "    NEW_IMAGE = images[img]#[390:440, 190:350]\n",
    "\n",
    "    coord_edit = []\n",
    "    star_magnitude = []\n",
    "    \n",
    "    for i in centroids:\n",
    "        coord_edit.append(i)\n",
    "    positions = [] \n",
    "    data = NEW_IMAGE\n",
    "    norm = simple_norm(data, 'sqrt', percent=99)\n",
    "    for x in range(len(coord_edit)):\n",
    "        if 'nan' not in str(coord_edit[x]):\n",
    "            positions.append(coord_edit[x])\n",
    "            star_magnitude.append(rmag_f[x])\n",
    "            \n",
    "     \n",
    "    aperture = CircularAperture(positions, r=ast_aperture)\n",
    "    annulus_aperture = CircularAnnulus(positions, r_in=ast_aperture+8, r_out=ast_aperture+12)\n",
    "\n",
    "    plt.imshow(data,cmap='gray', vmin=image_data.mean()-0.2*image_data.std(), vmax=image_data.mean()+0.2*image_data.std(), interpolation='nearest')\n",
    "    plt.show()\n",
    "\n",
    "    ap_patches = aperture.plot(color='white', lw=2)\n",
    "    ann_patches = annulus_aperture.plot(color='red', lw=2)\n",
    "\n",
    "\n",
    "        \n",
    "    aperstats = ApertureStats(data, annulus_aperture)\n",
    "    bkg_mean = aperstats.mean\n",
    "     \n",
    "\n",
    "       \n",
    "    phot_table = aperture_photometry(data, aperture)\n",
    "    for col in phot_table.colnames:\n",
    "        phot_table[col].info.format = '%.8g'  # for consistent table output\n",
    "\n",
    "\n",
    "    aperture_area = aperture.area_overlap(data)\n",
    "\n",
    "\n",
    "    total_bkg = bkg_mean * aperture_area\n",
    "    \n",
    "\n",
    "        \n",
    "    \n",
    "    phot_bkgsub = phot_table['aperture_sum'] - total_bkg\n",
    "    \n",
    "    phot_table['total_bkg'] = total_bkg\n",
    "    phot_table['aperture_sum_bkgsub'] = phot_bkgsub\n",
    "    for col in phot_table.colnames:\n",
    "        phot_table[col].info.format = '%.8g'  # for consistent table output\n",
    "  \n",
    "    \n",
    "     \n",
    "    for i in phot_table:\n",
    "        Brightness.append(i[5])\n",
    "       \n",
    "    Total_Brightness.append(Brightness)\n",
    "    Brightness = []\n"
   ]
  },
  {
   "cell_type": "code",
   "execution_count": null,
   "metadata": {},
   "outputs": [],
   "source": [
    "### Re-aranging the Pixel Brightness Values by Star Instead of by Image ###\n",
    "\n",
    "star_mag = []\n",
    "stars = []\n",
    "Star_X = []\n",
    "for i in range(len(Total_Brightness[0])):\n",
    "    for s in range(len(Total_Brightness)):\n",
    "        stars.append(Total_Brightness[s][i])\n",
    "    star_mag.append(stars)\n",
    "    stars = []\n",
    "\n",
    "for n in range(len(star_mag[0])):\n",
    "    Star_X.append(n+1)"
   ]
  },
  {
   "cell_type": "code",
   "execution_count": null,
   "metadata": {
    "scrolled": true
   },
   "outputs": [],
   "source": [
    "### Plotting the Brightness of Each Star across all Images ###\n",
    "\n",
    "for l in tqdm(range(len(star_mag))):\n",
    "    plt.figure(figsize=(15, 15))\n",
    "    plt.scatter(Star_X, preprocessing.normalize([star_mag[l]]), s=15, color = 'red')\n",
    "    plt.title(\"Star RAW CCD Brightness\") #title\n",
    "    plt.xlabel(\"Time\") #x label\n",
    "    plt.ylabel(\"Total Pixel Brightness\") #y label\n",
    "   # plt.yscale('log')\n",
    "    plt.ylim([0, 1])\n",
    "    plt.show()"
   ]
  },
  {
   "cell_type": "markdown",
   "metadata": {},
   "source": [
    "## 4. Finding Suitable Comparison Stars\n",
    "### a)  Eliminating Those Whose Instrument Magnitude Stray from the Best Fit Line\n",
    "### b) Eliminating Those Whose Magnitude is not Similar to Didymos"
   ]
  },
  {
   "cell_type": "code",
   "execution_count": null,
   "metadata": {},
   "outputs": [],
   "source": [
    "### Finding the Instrument Magnitude of each Star using the Average of their Total Pixel Brightness Across all Images ###\n",
    "\n",
    "IM_S = []\n",
    "comp_magnitude = []\n",
    "for l in range(len(star_mag)):\n",
    "    a = stats.gmean(star_mag[l])\n",
    "    IM_S.append(-2.5*np.log(a/60))\n",
    "   "
   ]
  },
  {
   "cell_type": "code",
   "execution_count": null,
   "metadata": {},
   "outputs": [],
   "source": [
    "### Plotting Instrument Magnitude (Just Calculated) and True Magnitude (from the GAIA Database) for all Stars ###\n",
    "### All points should Follow a Linear Line with Slope of Approximately 1 ###\n",
    "\n",
    "plt.scatter(IM_S, star_magnitude, s = 1)"
   ]
  },
  {
   "cell_type": "code",
   "execution_count": null,
   "metadata": {},
   "outputs": [],
   "source": [
    "### Removing Empty \"nan\" Values from Instrument Magnitude List ###\n",
    "IM_S2 = []\n",
    "catalog_mag = []\n",
    "for i in range(len(IM_S)):\n",
    "    if str(IM_S[i]) != str('nan'):\n",
    "        IM_S2.append(IM_S[i])\n",
    "        catalog_mag.append(star_magnitude[i])"
   ]
  },
  {
   "cell_type": "code",
   "execution_count": null,
   "metadata": {},
   "outputs": [],
   "source": [
    "### Finding Slope of Instrument Magnitude vs True Magnitude Scatter Plot ###\n",
    "comp_slope = (model5(polyline[-1])-model5(polyline[0]))/(max(df.x) - min(df.x))\n",
    "print(comp_slope) # Should be Close to 1"
   ]
  },
  {
   "cell_type": "code",
   "execution_count": null,
   "metadata": {},
   "outputs": [],
   "source": [
    "### Finding all Stars whose Brightness is Very Similar to Didymos ###\n",
    "comp_stars_catalog = []\n",
    "nums = []\n",
    "star_IM_comps = []\n",
    "star_magnitude_comps = []\n",
    "for i in range(len(star_mag)):\n",
    "    if np.mean(star_magnitude[i]) > float(ast_catalog_mag[0]) - 0.5 and np.mean(star_magnitude[i]) < float(ast_catalog_mag[0]) + 0.5:\n",
    "        comp_stars_catalog.append(star_magnitude[i])\n",
    "        nums.append(i)\n",
    "        star_IM_comps.append(star_mag[i])"
   ]
  },
  {
   "cell_type": "code",
   "execution_count": null,
   "metadata": {},
   "outputs": [],
   "source": [
    "### Plotting Instrument Magnitude over Time of all Stars whose Brightness is Very Similar to Didymos ###\n",
    "\n",
    "for l in tqdm(range(len(nums))):\n",
    "    plt.figure(figsize=(15, 15))\n",
    "    plt.scatter(Star_X, preprocessing.normalize([star_IM_comps[l]]), s=15, color = 'red')\n",
    "    title = \"Comp Star Instrument Brightness: \", comp_stars_catalog[l]\n",
    "    plt.title(title) #title\n",
    "    plt.xlabel(\"Time\") #x label\n",
    "    plt.ylabel(\"Raw Pixel Brightness\") #y label\n",
    "   # plt.yscale('log')\n",
    "    plt.ylim([0, 1])\n",
    "    plt.show()"
   ]
  },
  {
   "cell_type": "code",
   "execution_count": null,
   "metadata": {},
   "outputs": [],
   "source": [
    "### Plotting Instrument Magnitude and True Magnitude for all Stars with Magnitude between 8 and 18 ###\n",
    "\n",
    "df = pd.DataFrame({'x': IM_S2,\n",
    "                   'y': catalog_mag})\n",
    "plt.scatter(df.x, df.y)"
   ]
  },
  {
   "cell_type": "code",
   "execution_count": null,
   "metadata": {},
   "outputs": [],
   "source": [
    "### Finding Best Linear Fit to above Scatter Plot ###\n",
    "\n",
    "test = []\n",
    "test2 = []\n",
    "for i in range(len(catalog_mag)):\n",
    "    if catalog_mag[i] < 18 and catalog_mag[i] > 8:\n",
    "        test.append(IM_S2[i])\n",
    "        test2.append(catalog_mag[i])"
   ]
  },
  {
   "cell_type": "code",
   "execution_count": null,
   "metadata": {},
   "outputs": [],
   "source": [
    "### Plotting Best Linear Fit to above Scatter Plot ###\n",
    "\n",
    "df = pd.DataFrame({'x': test,\n",
    "                   'y': test2})\n",
    "        \n",
    "model5 = np.poly1d(np.polyfit(df.x, df.y, 1))\n",
    "\n",
    "polyline = np.linspace(min(df.x), max(df.x), 100)\n",
    "plt.scatter(df.x, df.y)\n",
    "\n",
    "plt.plot(polyline, model5(polyline), color='orange')\n",
    "plt.show()"
   ]
  },
  {
   "cell_type": "code",
   "execution_count": null,
   "metadata": {},
   "outputs": [],
   "source": [
    "### Finding the Instrument Magnitude of each Star whose Brightness is Similar to Didymos ###\n",
    "IM_Sc = []\n",
    "comp_magnitude = []\n",
    "for l in range(len(star_IM_comps)):\n",
    "    a = stats.gmean(star_IM_comps[l])\n",
    "    IM_Sc.append(-2.5*np.log(a/60))\n",
    "    "
   ]
  },
  {
   "cell_type": "code",
   "execution_count": null,
   "metadata": {},
   "outputs": [],
   "source": [
    "### Plotting Scatter Plot and Best Linear Fit ###\n",
    "\n",
    "polyline = np.linspace(min(IM_Sc), max(IM_Sc), 100)\n",
    "plt.scatter(IM_Sc, comp_stars_catalog)\n",
    "plt.plot(polyline, model5(polyline), color='orange')\n",
    "title = \"Line Slope = \", comp_slope\n",
    "plt.title(title)\n",
    "plt.show()"
   ]
  },
  {
   "cell_type": "code",
   "execution_count": null,
   "metadata": {},
   "outputs": [],
   "source": [
    "### Removing all Stars whose Points Stray from the Linear Fit Line ###\n",
    "IM_Scomp = []\n",
    "comp_stars_catalog2 = []\n",
    "star_IM_comps2 = []\n",
    "for i in range(len(IM_Sc)):\n",
    "    d = abs(model5(IM_Sc[i]) - comp_stars_catalog[i])\n",
    "    if d <= 0.8:\n",
    "        IM_Scomp.append(IM_Sc[i])\n",
    "        comp_stars_catalog2.append(comp_stars_catalog[i])\n",
    "        star_IM_comps2.append(star_IM_comps[i])"
   ]
  },
  {
   "cell_type": "code",
   "execution_count": null,
   "metadata": {},
   "outputs": [],
   "source": [
    "### Plotting Scatter Plot and Best Linear Fit of Remaining Stars ###\n",
    "### These are all the Comparison Stars Selected for the duration of the Observation ###\n",
    "\n",
    "polyline = np.linspace(min(IM_Scomp), max(IM_Scomp), 100)\n",
    "plt.scatter(IM_Scomp, comp_stars_catalog2)\n",
    "plt.plot(polyline, model5(polyline), color='orange')\n",
    "title = \"Line Slope = \", comp_slope\n",
    "plt.title(title)\n",
    "plt.show()"
   ]
  },
  {
   "cell_type": "code",
   "execution_count": null,
   "metadata": {},
   "outputs": [],
   "source": [
    "### Plotting Normalized Brightness over Time for all Comparison Stars ###\n",
    "for l in tqdm(range(len(comp_stars_catalog2))):\n",
    "    plt.figure(figsize=(15, 15))\n",
    "    plt.scatter(Star_X, preprocessing.normalize([star_IM_comps2[l]]), s=15, color = 'red')\n",
    "    title = \"Comp Star Normalized Brightness: \", comp_stars_catalog2[l]\n",
    "    plt.title(title) #title\n",
    "    plt.xlabel(\"Time\") #x label\n",
    "    plt.ylabel(\"Raw ADU\") #y label\n",
    "   # plt.yscale('log')\n",
    "    plt.ylim([0, 1])\n",
    "    plt.show()"
   ]
  },
  {
   "cell_type": "code",
   "execution_count": null,
   "metadata": {},
   "outputs": [],
   "source": [
    "### Re-Computing Instrument Magnitude for the Comparison Stars Selected ###\n",
    "IM = []\n",
    "comp_instrument_mag = []\n",
    "for l in range(len(star_IM_comps2)):\n",
    "    for i in range(len(star_IM_comps2[l])):\n",
    "        IM.append(-2.5*np.log(star_IM_comps2[l][i]/60))\n",
    "        \n",
    "    comp_instrument_mag.append(IM)\n",
    "    IM = []"
   ]
  },
  {
   "cell_type": "code",
   "execution_count": null,
   "metadata": {},
   "outputs": [],
   "source": [
    "### Plotting Instrument Magnitude over Time for all Comparison Stars ###\n",
    "for l in tqdm(range(len(comp_instrument_mag))):\n",
    "    plt.figure(figsize=(15, 15))\n",
    "    plt.scatter(Star_X, [comp_instrument_mag[l]], s=15, color = 'red')\n",
    "    title = \"Comp Star Instrument Brightness: \", comp_stars_catalog2[l]\n",
    "    plt.title(title) #title\n",
    "    plt.xlabel(\"Time\") #x label\n",
    "    plt.ylabel(\"Raw ADU\") #y label\n",
    "   # plt.yscale('log')\n",
    "    plt.ylim([-22, -18])\n",
    "    plt.show()"
   ]
  }
 ],
 "metadata": {
  "kernelspec": {
   "display_name": "Python 3 (ipykernel)",
   "language": "python",
   "name": "python3"
  },
  "language_info": {
   "codemirror_mode": {
    "name": "ipython",
    "version": 3
   },
   "file_extension": ".py",
   "mimetype": "text/x-python",
   "name": "python",
   "nbconvert_exporter": "python",
   "pygments_lexer": "ipython3",
   "version": "3.10.8"
  }
 },
 "nbformat": 4,
 "nbformat_minor": 4
}
