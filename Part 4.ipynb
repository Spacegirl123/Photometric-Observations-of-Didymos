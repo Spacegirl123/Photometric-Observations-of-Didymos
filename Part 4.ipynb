{
 "cells": [
  {
   "cell_type": "markdown",
   "id": "31892e9e",
   "metadata": {},
   "source": [
    "----------------"
   ]
  },
  {
   "cell_type": "markdown",
   "id": "dc629a18",
   "metadata": {},
   "source": [
    "# Photometry Observations of Didymos Asteroid (Part 4 of 4)"
   ]
  },
  
  {
   "cell_type": "markdown",
   "id": "dc629a18",
   "metadata": {},
   "source": [
    "# Creating Composite Asteroid Light Curves to Determine Rotation and Mutual Orbital Period"
   ]
  },
  
  {
   "cell_type": "markdown",
   "id": "f81153cb",
   "metadata": {},
   "source": [
    "## By Arushi Nath, Founder: MonitorMyPlanet.com\n"
   ]
  },
  {
   "cell_type": "markdown",
   "id": "3e2f12f7",
   "metadata": {},
   "source": [
    "-----------------------------"
   ]
  },
  {
   "cell_type": "markdown",
   "id": "4222b975",
   "metadata": {},
   "source": [
    "#### This Fourth Notebook will take you through the steps of finding the rotational period of Didymos and the orbital period of Dimorphos. It will use the light curve created in part 3. It is preferable to have multiple nights of observations at this step to get more accurate results."
   ]
  },
  {
   "cell_type": "markdown",
   "id": "badc972b",
   "metadata": {},
   "source": [
    "### 1. Setting up the Enviornment "
   ]
  },
  {
   "cell_type": "code",
   "execution_count": null,
   "id": "25a93cf2",
   "metadata": {},
   "outputs": [],
   "source": [
    "### Importing Required Libraries ###\n",
    "import csv\n",
    "import matplotlib.pyplot as plt\n",
    "import juliandate as jd\n",
    "import numpy as np\n",
    "import pandas as pd\n",
    "from tqdm.notebook import tqdm\n",
    "import math\n",
    "from sklearn import preprocessing"
   ]
  },
  {
   "cell_type": "code",
   "execution_count": null,
   "id": "d818ccff",
   "metadata": {},
   "outputs": [],
   "source": [
    "### Importing Light Curve of Multiple Observations ###\n",
    "mag = []\n",
    "JD2 = []\n",
    "JD = []\n",
    "Error = []\n",
    "Color = []\n",
    "with open(r\"(ADD YOUR FOLDER DIRECTORY HERE)\", newline='') as f:\n",
    "  reader = csv.reader(f)\n",
    "  for row in reader:\n",
    "    print(row)\n",
    "    \n",
    "    mag.append((row[1]))\n",
    "    \n",
    "    JD.append((row[0]))\n",
    "    \n",
    "    Error.append((row[2]))\n",
    "    \n",
    "    #Color.append(row[3])\n",
    "    \n",
    "mag = mag[1:]\n",
    "mag = [eval(i) for i in mag]\n",
    "\n",
    "JD = JD[1:]\n",
    "\n",
    "JD = [eval(i) for i in JD]\n",
    "\n",
    "Error = Error[1:]\n",
    "Error = [eval(i) for i in Error]\n",
    "\n",
    "#Color = Color[1:]\n",
    "#Color = [eval(i) for i in Color]"
   ]
  },
  {
   "cell_type": "code",
   "execution_count": null,
   "id": "bc453b8a",
   "metadata": {},
   "outputs": [],
   "source": [
    "### Converting Julian Date into Hours from Start ###\n",
    "\n",
    "def UnixTimeFromJulianDate(jd):\n",
    "    return ((jd-2440587.5)*86400)/3600\n",
    "s = (UnixTimeFromJulianDate(JD[0]))\n",
    "\n",
    "hours = []\n",
    "for i in JD:\n",
    "    hours.append(UnixTimeFromJulianDate(i) - s)"
   ]
  },
  {
   "cell_type": "code",
   "execution_count": null,
   "id": "a5832896",
   "metadata": {},
   "outputs": [],
   "source": [
    "### Scatter all Observations of Didymos ###\n",
    "plt.figure(figsize=(5, 4))\n",
    "plt.scatter(JD,mag, marker = \"v\")\n",
    "\n",
    "plt.title(\"Total Observations - Pre-Impact\")\n",
    "plt.xlabel(\"Hours\")\n",
    "plt.ylabel(\"Magnitude\")"
   ]
  },
  {
   "cell_type": "markdown",
   "id": "76541ecf",
   "metadata": {},
   "source": [
    "### 2. Finding Primary Period (Rotation of Didymos)"
   ]
  },
  {
   "cell_type": "code",
   "execution_count": null,
   "id": "830446ec",
   "metadata": {},
   "outputs": [],
   "source": [
    "### Creating Function to Create Composite Light Curves for any period ###\n",
    "def period2curve(period):\n",
    "    p_time = []\n",
    "    for i in range(len(hours)):\n",
    "        p_time.append(hours[i]%period)\n",
    "    return p_time"
   ]
  },
  {
   "cell_type": "code",
   "execution_count": null,
   "id": "c5ea0384",
   "metadata": {},
   "outputs": [],
   "source": [
    "### Estimating the Periodicity to be in Between 2 and 5 Hours. Creating 500 Intervals between those Numbers ###\n",
    "rotations = []\n",
    "n = np.linspace(2, 5, 5000)\n",
    "for i in tqdm(n):\n",
    "    rotations.append(period2curve(i))"
   ]
  },
  {
   "cell_type": "code",
   "execution_count": null,
   "id": "6cd94092",
   "metadata": {
    "scrolled": true
   },
   "outputs": [],
   "source": [
    "### Finding the Root Mean Square Error of Composite Light Curves created with Periodicity Between 2 and 5 Hours ###\n",
    "\n",
    "num = 5000\n",
    "RMSE = []\n",
    "line = []\n",
    "nu = []\n",
    "nu2 = []\n",
    "ln = []\n",
    "test = []\n",
    "\n",
    "for i in tqdm(range(len(rotations))):\n",
    "   \n",
    "    nu2.append(i)\n",
    "    duplicate = rotations[i]\n",
    "    norm = preprocessing.normalize([np.array(rotations[i])])\n",
    "    \n",
    "    df = pd.DataFrame({'x': rotations[i],\n",
    "                'y': mag})\n",
    "        \n",
    "    model5 = np.poly1d(np.polyfit(df.x, df.y, 13))\n",
    "\n",
    "    polyline = np.linspace(0, rotations[i], num)\n",
    "    for t in range(len(norm[0])):\n",
    "        line.append(model5(rotations[i][t]))\n",
    "    ln.append(line)\n",
    "    \n",
    "    MSE = np.square(np.subtract(mag,line)).mean() \n",
    " \n",
    "    RMSE.append(math.sqrt(MSE))\n",
    "    test.append(line)\n",
    "    plt.figure(figsize=(5, 4))\n",
    "    \n",
    "    \n",
    "    plt.errorbar(rotations[i],mag, fmt=\"o\", marker = \"X\")\n",
    "\n",
    "    \n",
    "    t = \"Period (hours): \" + str(max(rotations[i]))\n",
    "    print(max(rotations[i]),math.sqrt(MSE))\n",
    "    plt.title(t)\n",
    "    plt.ylabel(\"Magnitude\")\n",
    "    plt.xlabel(\"Phase\")\n",
    "    #plt.ylim(16.4,15.6)\n",
    "    \n",
    "    plt.scatter(rotations[i], line, color='red', s = 12, zorder=5)\n",
    "    plt.legend()\n",
    "    plt.show()\n",
    "    line = []\n",
    "    "
   ]
  },
  {
   "cell_type": "code",
   "execution_count": null,
   "id": "9774c845",
   "metadata": {},
   "outputs": [],
   "source": [
    "### Plotting RMSE for all Periods ###\n",
    "plt.figure(figsize=(20, 10))\n",
    "plt.plot(n,RMSE)"
   ]
  },
  {
   "cell_type": "code",
   "execution_count": null,
   "id": "db96f73f",
   "metadata": {},
   "outputs": [],
   "source": [
    "### Finding the 5 Periods with the Smallest RMSE.\n",
    "t_periods = []\n",
    "t_plots = []\n",
    "t_test = []\n",
    "ln2 = []\n",
    "RMSE_mod = RMSE.copy()\n",
    "RMSE_max = []\n",
    "for s in range(5):\n",
    "    RMSE_max.append(min(RMSE_mod))\n",
    "    for i in range(len(RMSE)):\n",
    "        try:\n",
    "            if RMSE_mod[i] == min(RMSE_mod):\n",
    "                t_periods.append(n[i])\n",
    "                t_plots.append(i)\n",
    "                t_test.append(test[i])\n",
    "                ln2.append(ln[i])\n",
    "                \n",
    "        except:\n",
    "            pass\n",
    "    \n",
    "    RMSE_mod.remove(min(RMSE_mod))\n",
    "    "
   ]
  },
  {
   "cell_type": "code",
   "execution_count": null,
   "id": "e773ecf0",
   "metadata": {
    "scrolled": true
   },
   "outputs": [],
   "source": [
    "### Plotting Top 5 Possible Periods. The First one should be 2.26, the True Rotational Period of Didymos ###\n",
    "for i in range(len(t_plots)):\n",
    "    title = \"Period: \" +  str(t_periods[i])\n",
    "\n",
    "    print(RMSE_max[i])\n",
    "    plt.figure(figsize=(6, 4))\n",
    "    #plt.scatter(rotations[t_plots[i]],mag, s = 10)\n",
    "    plt.scatter(rotations[t_plots[i]], ln2[i], color='red', s = 12, zorder=5)\n",
    "    plt.title(title)\n",
    "    plt.xlabel(\"Phase\")\n",
    "    plt.ylabel(\"Magnitude\")\n",
    "    #plt.ylim(16.4,15.6)\n",
    "\n",
    "    plt.errorbar(rotations[t_plots[i]],mag, fmt=\"o\", marker = \"X\")\n",
    "    \n",
    "    \n",
    "    plt.legend()\n",
    "    plt.show()"
   ]
  },
  {
   "cell_type": "markdown",
   "id": "25d58690",
   "metadata": {},
   "source": [
    "### 3. Finding Secondary Period (Dimorphos Orbit)"
   ]
  },
  {
   "cell_type": "code",
   "execution_count": null,
   "id": "c46790c5",
   "metadata": {},
   "outputs": [],
   "source": [
    "### Substracting Rotational Period from the Original Observations. The Orbit of Dimorphos should be what is Left Out ###\n",
    "substract  = []\n",
    "for i in range(len(t_test[0])):  \n",
    "    substract.append(mag[i]-t_test[0][i])"
   ]
  },
  {
   "cell_type": "code",
   "execution_count": null,
   "id": "965225e1",
   "metadata": {},
   "outputs": [],
   "source": [
    "### Estimating the Periodicity of Dimorphos' Orbit to be in Between 8 and 16 Hours, and creating 5000 Intervals in Between ###\n",
    "orbits = []\n",
    "w = []\n",
    "n = np.linspace(8, 16, 5000)\n",
    "for i in tqdm(range(len(n))):\n",
    "    orbits.append(period2curve(n[i]))\n",
    "    w.append(2+(i/714.285714))"
   ]
  },
  {
   "cell_type": "code",
   "execution_count": null,
   "id": "675ae569",
   "metadata": {
    "scrolled": true
   },
   "outputs": [],
   "source": [
    "### Finding the Root Mean Square Error of Composite Light Curves created with Periodicity Between 8 and 16 Hours ###\n",
    "\n",
    "RMSE_o = []\n",
    "line_o = []\n",
    "nu_o = []\n",
    "c = 0\n",
    "for i in tqdm(orbits):\n",
    "    nu_o.append(w[c])\n",
    "    duplicate_o = i.copy()\n",
    "    norm_o = preprocessing.normalize([np.array(i)])\n",
    "    \n",
    "    df = pd.DataFrame({'x': i,\n",
    "                'y': substract})\n",
    "        \n",
    "    model5_o = np.poly1d(np.polyfit(df.x, df.y, 13))\n",
    "\n",
    "    for t in range(len(norm_o[0])):\n",
    "        line_o.append(model5_o(i[t]))\n",
    "        \n",
    "\n",
    "    plt.scatter(i,substract)\n",
    "    print(len(i), len(line_o), len(substract))\n",
    "    \n",
    "\n",
    "    plt.errorbar(i,substract, fmt=\"o\", marker = \"X\")\n",
    "    \n",
    "    plt.scatter(i, line_o, color='red', zorder = 5)\n",
    "    \n",
    "    \n",
    "    MSE_o = np.square(np.subtract(substract,line_o)).mean() \n",
    " \n",
    "    RMSE_o.append(math.sqrt(MSE_o))\n",
    "    \n",
    "    print(math.sqrt(MSE_o))\n",
    "    \n",
    "    title = \"period: \" + str(w[c])\n",
    "    plt.title(title)\n",
    "    plt.xlabel(\"Phase\")\n",
    "    plt.ylabel(\"Magnitude\")\n",
    "    plt.ylim(plt.ylim()[::-1])\n",
    "    plt.ylim(-0.3,0.3)\n",
    "    plt.show()\n",
    "    \n",
    "    line_o = []\n",
    "    c+=1"
   ]
  },
  {
   "cell_type": "code",
   "execution_count": null,
   "id": "f1154644",
   "metadata": {},
   "outputs": [],
   "source": [
    "### Finding the Top 5 Periods with the Least RMSE ###\n",
    "t_periods2 = []\n",
    "t_plots2 = []\n",
    "\n",
    "RMSE_mod2 = RMSE_o.copy()\n",
    "RMSE_max2 = []\n",
    "for s in range(5):\n",
    "    RMSE_max2.append(min(RMSE_mod2))\n",
    "    for i in range(len(RMSE_mod2)):\n",
    "    \n",
    "        if RMSE_mod2[i] == min(RMSE_mod2):\n",
    "            t_periods2.append(nu_o[i])\n",
    "            t_plots2.append(i)\n",
    "               \n",
    "                \n",
    "        \n",
    "    \n",
    "    RMSE_mod2.remove(min(RMSE_mod2))\n",
    "    "
   ]
  },
  {
   "cell_type": "code",
   "execution_count": null,
   "id": "fcd1d23a",
   "metadata": {},
   "outputs": [],
   "source": [
    "### Plotting the Top 5 Periods. The First one should be either 11.91 or 11.38, Depending if your Observations and Before of After the Impact ###\n",
    "for i in range(len(t_plots2)):\n",
    "    title = \"Period\", ((t_periods2[i]-8)/5)+8, \", RMSE (x0.1 mag):\", RMSE_max2[i]*100\n",
    "    plt.figure(figsize=(20, 10))\n",
    "    plt.scatter(orbits[t_plots2[i]],mag)\n",
    "    plt.title(title)\n",
    "    plt.ylim(plt.ylim()[::-1])\n",
    "    plt.show()"
   ]
  }
 ],
 "metadata": {
  "kernelspec": {
   "display_name": "Python 3 (ipykernel)",
   "language": "python",
   "name": "python3"
  },
  "language_info": {
   "codemirror_mode": {
    "name": "ipython",
    "version": 3
   },
   "file_extension": ".py",
   "mimetype": "text/x-python",
   "name": "python",
   "nbconvert_exporter": "python",
   "pygments_lexer": "ipython3",
   "version": "3.10.8"
  }
 },
 "nbformat": 4,
 "nbformat_minor": 5
}
