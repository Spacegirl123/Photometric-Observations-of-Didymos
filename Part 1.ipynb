{
 "cells": [
  {
   "cell_type": "markdown",
   "id": "97bc3d4f",
   "metadata": {},
   "source": [
    "---------------------------------------------------------"
   ]
  },
  {
   "cell_type": "markdown",
   "id": "8ea39a32",
   "metadata": {},
   "source": [
    "# Photometry Observations of Didymos Asteroid (Part 1)"
   ]
  },
  {
   "cell_type": "markdown",
   "id": "999e6f1b",
   "metadata": {},
   "source": [
    "## By Arushi Nath, Founder: MonitorMyPlanet.com"
   ]
  },
  {
   "cell_type": "markdown",
   "id": "0d9b7c14",
   "metadata": {},
   "source": [
    "----------------------------------------------"
   ]
  },
  {
   "cell_type": "markdown",
   "id": "42224738",
   "metadata": {},
   "source": [
    "#### This First Notebook will walk you through the steps of pre-processsing your observation of Didymos before analysis. It uses libaries such as Astropy and Astroquery to extract metadata from your images and use it to query for all known stars in the field of view (later used when finding comparison stars). In addition, it will query for the celestial coordinates and magnitude of Didymos across the full duration of an observation.\n",
    "\n",
    "#### Note: If you have multiple observation nights of Didymos, you will need to re-run the code seperately for each one."
   ]
  },
  {
   "cell_type": "markdown",
   "id": "c81d1e4e",
   "metadata": {},
   "source": [
    "### 1. Preparing Coding Environment by Installing Libraries"
   ]
  },
  {
   "cell_type": "code",
   "execution_count": null,
   "id": "949f6a7b",
   "metadata": {},
   "outputs": [],
   "source": [
    "### Importing Required Libraries ###\n",
    "\n",
    "# Basic Libraries\n",
    "import numpy as np\n",
    "import matplotlib.pyplot as plt\n",
    "import pandas as pd\n",
    "from tqdm.notebook import tqdm\n",
    "\n",
    "# Used to help with analysis\n",
    "from astropy.io import fits\n",
    "from astropy.table import Table\n",
    "from astropy.coordinates import SkyCoord\n",
    "import astropy.units as u \n",
    "import astropy.coordinates as coord\n",
    "import astropy.coordinates as coord\n",
    "import astropy.units as u\n",
    "from astropy.wcs import WCS\n",
    "from astropy.visualization import simple_norm\n",
    "from astropy.utils.data import get_pkg_data_filename\n",
    "\n",
    "# Used for Trying out Different Aperture Sizes for Differential Photometry\n",
    "import photutils \n",
    "from photutils.aperture import CircularAperture, CircularAnnulus\n",
    "from photutils.datasets import make_100gaussians_image\n",
    "from photutils.aperture import ApertureStats\n",
    "from photutils.aperture import aperture_photometry\n",
    "\n",
    "# Used to Query Open Datasets\n",
    "from astroquery.mpc import MPC\n",
    "from astroquery.vizier import Vizier \n",
    "from astroquery.gaia import Gaia\n",
    "import urllib as url\n",
    "import requests\n",
    "\n",
    "# Curve Fitting and Normalization\n",
    "from scipy import stats\n",
    "from scipy.optimize import curve_fit\n",
    "from sklearn import preprocessing"
   ]
  },
  {
   "cell_type": "markdown",
   "id": "f9e01586",
   "metadata": {},
   "source": [
    "### 2. Getting Image and Essential Meta Data from FITS File"
   ]
  },
  {
   "cell_type": "code",
   "execution_count": null,
   "id": "083d240a",
   "metadata": {},
   "outputs": [],
   "source": [
    "### Querying for FITS files of all Images in Observation ###\n",
    "\n",
    "images = []\n",
    "headers = []\n",
    "n = 266\n",
    "while n<= 344:\n",
    "    i = r'D:\\Desktop\\i-Telescope Observations\\Didymos\\LCO\\17 November 2022\\lco_data-20221118-158\\lco_data-20221118-158\\coj1m011-fa12-20221117-0',str(n),'-e91.fits'\n",
    "   \n",
    "    a = \"\".join(i)\n",
    "    img = fits.open(a)\n",
    "    file = img[0]\n",
    "    images.append(fits.getdata(a))\n",
    "    headers.append(file.header)\n",
    "    \n",
    "    n+=1"
   ]
  },
  {
   "cell_type": "code",
   "execution_count": null,
   "id": "5c02d034",
   "metadata": {},
   "outputs": [],
   "source": [
    "### Showing All Images ###\n",
    "for i in range(len(images)):\n",
    "    plt.figure(figsize=(15, 15))\n",
    "    image_data = images[i]\n",
    "    plt.imshow(image_data, cmap='gray')\n",
    "    plt.show()"
   ]
  },
  {
   "cell_type": "code",
   "execution_count": null,
   "id": "d8eff98b",
   "metadata": {},
   "outputs": [],
   "source": [
    "### Extracting Usefull Information from FITS File ###\n",
    "# *Note: Different Telescopes give Different Names for each Data points. It may be Nessesary to Change Query Parameters\n",
    "\n",
    "#Image Information\n",
    "\n",
    "DATE = []\n",
    "for i in range(len(headers)):    \n",
    "    DATE.append(headers[i]['DATE-OBS'])\n",
    "\n",
    "BINNING = headers[1]['CCDSUM'][0]\n",
    "\n",
    "\n",
    "#Camera\n",
    "\n",
    "NAXIS1 = headers[1]['NAXIS1']\n",
    "NAXIS2 = headers[1]['NAXIS2']\n",
    "\n",
    "Pixel_Scale = headers[1]['PIXSCALE']\n",
    "CCDXPIXE = headers[1]['CCDXPIXE']\n",
    "CCDXPIXE = CCDXPIXE*1000\n",
    "\n",
    "FOV =  (int(NAXIS1) * (Pixel_Scale)/60)*2\n",
    "\n",
    "#OBJECT\n",
    "\n",
    "RA = headers[1]['RA']\n",
    "DEC = headers[1]['DEC']\n",
    "\n",
    "\n",
    "# Printing out all Relevant MetaData\n",
    "\n",
    "print('Pixel Size (meters) : ', CCDXPIXE)\n",
    "print('DATE-OBS: ', DATE[1])\n",
    "print('Right Ascension (hh:mm:ss): ', RA)\n",
    "print('Declination (degrees: arcmin: arcsec): ', DEC)\n",
    "print('CCD Length (pixels): ', NAXIS1)\n",
    "print('CCD Width (pixels): ', NAXIS2)\n",
    "print('Pixel_Scale (arcsec/pixel): ', Pixel_Scale)\n",
    "print('BINNING: ', BINNING)\n",
    "print(\"Field of View (arcmin): \", FOV)\n"
   ]
  },
  {
   "cell_type": "markdown",
   "id": "956d8cc9",
   "metadata": {},
   "source": [
    "### 3. Scaling Images to Show Brighter and Dimmer Objects in the Image "
   ]
  },
  {
   "cell_type": "code",
   "execution_count": null,
   "id": "3b7dca75",
   "metadata": {},
   "outputs": [],
   "source": [
    "#### Scaling Image to Clearly View all Objects in Image ###\n",
    "\n",
    "def show(im):\n",
    "    plt.imshow(im, cmap='gray', vmin=image_data.mean()-0.2*image_data.std(), vmax=image_data.mean()+0.2*image_data.std())\n",
    "\n",
    "image_data = images[10]\n",
    "\n",
    "plt.figure(figsize=(15, 15))\n",
    "show(image_data)\n",
    "plt.colorbar()\n"
   ]
  },
  {
   "cell_type": "code",
   "execution_count": null,
   "id": "b21e461c",
   "metadata": {},
   "outputs": [],
   "source": [
    "### To clip hot pixels / extraneous values / noise ###\n",
    "def scale(im):\n",
    "    VMIN = image_data.mean()-0.2*image_data.std() # Sets pixels below VMIN to VMIN\n",
    "    VMAX = image_data.mean()+0.2*image_data.std() # Sets pixels above VMAX to VMAX\n",
    "    \n",
    "    return np.clip(im, VMIN, VMAX)"
   ]
  },
  {
   "cell_type": "markdown",
   "id": "37c26405",
   "metadata": {},
   "source": [
    "### 4. Creating a Function to Convert Right Ascension and Declination Coordinates from HH:MM:SS to Degrees"
   ]
  },
  {
   "cell_type": "code",
   "execution_count": null,
   "id": "68d0ff90",
   "metadata": {},
   "outputs": [],
   "source": [
    "### Creating a Function to Convert Right Ascention (h : m : s) to Degrees ###\n",
    "\n",
    "def RAtoDeg(ra):\n",
    "    if ':' in ra:\n",
    "        sep = ':'\n",
    "        \n",
    "    if ' ' in ra:\n",
    "        sep = ' '\n",
    "        \n",
    "    if '-' in ra:\n",
    "        sep = '-'\n",
    "        \n",
    "    h,m,s = ra.split(sep)\n",
    "    h,m,s = float(h), float(m), float(s)\n",
    "   \n",
    "    \n",
    "    deg = (h*15) + (m/4) + (s/240)\n",
    "    print(deg)\n",
    "    return deg\n",
    "\n",
    "\n",
    "### Creating a Function to Convert Declination (deg : arc-min : arc-sec) to Degrees ###\n",
    "\n",
    "def DECtoDeg(dec):\n",
    "    if ':' in dec:\n",
    "        sep = ':'\n",
    "        \n",
    "    if ' ' in dec:\n",
    "        sep = ' '\n",
    "    \n",
    "    dem = dec[1:]\n",
    "    if '-' in dem:\n",
    "        sep = '-'\n",
    "        \n",
    "    d,d2,d3 = dec.split(sep)\n",
    "    \n",
    "    if d[0] == '-':\n",
    "        d = float(d)\n",
    "        d2 = float(d2)\n",
    "        d3 = float(d3)\n",
    "\n",
    "    \n",
    "        deg = d - (d2/60) - (d3/3600)\n",
    "    \n",
    " \n",
    "    else:    \n",
    "        d = float(d)\n",
    "        d2 = float(d2)\n",
    "        d3 = float(d3)\n",
    "\n",
    "    \n",
    "        deg = d + (d2/60) + (d3/3600)\n",
    "    print(deg)\n",
    "    return deg"
   ]
  },
  {
   "cell_type": "code",
   "execution_count": null,
   "id": "da2081b8",
   "metadata": {},
   "outputs": [],
   "source": [
    "### Converting Image RA and DEC to degrees ###\n",
    "RA_deg = RAtoDeg(RA)\n",
    "DEC_deg = DECtoDeg(DEC)"
   ]
  },
  {
   "cell_type": "markdown",
   "id": "62310ac3",
   "metadata": {},
   "source": [
    "### 5. Querying GAIA-EDR3 Star Catalog for Celestial Coordinates of all Know Stars in the Image"
   ]
  },
  {
   "cell_type": "code",
   "execution_count": null,
   "id": "6d5b7742",
   "metadata": {},
   "outputs": [],
   "source": [
    "###Querying the GAIA Database for Known Stars in the Image ###\n",
    "\n",
    "Gaia.MAIN_GAIA_TABLE = \"gaiaedr3.gaia_source\"\n",
    "Gaia.ROW_LIMIT = -1\n",
    "\n",
    "coord = SkyCoord(ra=RA_deg, dec=DEC_deg, unit=(u.degree, u.degree), frame='icrs')\n",
    "width = u.Quantity(FOV/2 +0.1, u.arcmin)\n",
    "height = u.Quantity(FOV/2+0.1, u.arcmin)\n",
    "\n",
    "r = Gaia.query_object_async(coordinate=coord, width=width, height=height)\n",
    "\n",
    "rad = np.array(r['ra'])\n",
    "ded = np.array(r['dec'])\n",
    "rmag = np.array(r['phot_g_mean_mag'])"
   ]
  },
  {
   "cell_type": "code",
   "execution_count": null,
   "id": "cb8b53e1",
   "metadata": {},
   "outputs": [],
   "source": [
    "### Limiting to only Stars whose Magnitude is Brighter than 21 ###\n",
    "rad_f = []\n",
    "ded_f = []\n",
    "rmag_f = []\n",
    "mag_max = 21\n",
    "for i in range(len(rmag)):\n",
    "    if rmag[i] < mag_max:\n",
    "        rad_f.append(rad[i])\n",
    "        ded_f.append(ded[i])\n",
    "        rmag_f.append(rmag[i])"
   ]
  },
  {
   "cell_type": "code",
   "execution_count": null,
   "id": "b77ead20",
   "metadata": {},
   "outputs": [],
   "source": [
    "### Converting all Star RA and DEC Coordinates to Pixel Coordinates ###\n",
    "x_y_cords = []\n",
    "star_x = []\n",
    "star_y = []\n",
    "\n",
    "wcs = WCS(headers[0])\n",
    "\n",
    "for ra1,dec1 in zip(rad_f,ded_f):\n",
    "    \n",
    "    c = SkyCoord(ra1, dec1, frame='icrs', unit='deg')\n",
    "    x, y = wcs.world_to_pixel(c)\n",
    "    \n",
    "    star_x.append(x)\n",
    "    star_y.append(y)\n",
    "    x = 0\n",
    "    y = 0"
   ]
  },
  {
   "cell_type": "code",
   "execution_count": null,
   "id": "e8088dbc",
   "metadata": {},
   "outputs": [],
   "source": [
    "### plot all pixel cordinates on top of image ###\n",
    "plt.figure(figsize=(15, 15))\n",
    "\n",
    "plt.imshow(image_data, cmap='gray', vmin=image_data.mean()-0.2*image_data.std(), vmax=image_data.mean()+0.2*image_data.std())\n",
    "plt.scatter(star_x,star_y,10)\n",
    "\n",
    "plt.show()"
   ]
  },
  {
   "cell_type": "markdown",
   "id": "4bfb5fd4",
   "metadata": {},
   "source": [
    "### 6. Querying the JPL Horizons System for Didymos Celestial Coordinates and Magnitude across the full Duration of the Observation"
   ]
  },
  {
   "cell_type": "code",
   "execution_count": null,
   "id": "0ef59ae1",
   "metadata": {},
   "outputs": [],
   "source": [
    "### Setting Querying Parameters for Didymos ###\n",
    "mag_limit = 18\n",
    "def known_asteroid_finder(date, time, fov1, fov2, mpc, ra, dec): #Date: year-month-day   Time: hh:mm:ss   FOV1: arcmin_start to end ra   FOV2: arcmin_start to end dec   MPC code: observatory minor planet center code\n",
    "\n",
    "    sep = ''\n",
    "    mpc_mod = sep.join(\"&mpc-code=\" + mpc)\n",
    "    date_mod = sep.join(\"&obs-time=\" + date)\n",
    "    time_mod = sep.join(\"_\" + time)\n",
    "    fov1_mod = sep.join(\"&fov-ra-center=\" + ra)\n",
    "    fov2_mod = sep.join(\"&fov-dec-center=\" + dec)\n",
    "    ra_mod = sep.join(\"&fov-ra-hwidth=\" + fov2)\n",
    "    dec_mod = sep.join(\"&fov-dec-hwidth=\" + fov1)\n",
    "    mag_mod = sep.join(\"&vmag-lim=\" + str(mag_limit))\n",
    "   \n",
    "    start = 'https://ssd-api.jpl.nasa.gov/sb_ident.api?sb-kind=a&mag-required=true&two-pass=true&suppress-first-pass=true&req-elem=false'\n",
    "    link = start, mpc_mod, date_mod, time_mod, fov1_mod, fov2_mod, ra_mod, dec_mod, mag_mod\n",
    "    link = sep.join(link)\n",
    "    return link"
   ]
  },
  {
   "cell_type": "code",
   "execution_count": null,
   "id": "5228f608",
   "metadata": {},
   "outputs": [],
   "source": [
    "### Creating a Function to Convert RA and Dec into Required Format ###\n",
    "def convert(ra,dec):\n",
    "    if '+' in dec:\n",
    "        dec = dec.replace(\"+\", \"\")\n",
    "    if '-' in dec:\n",
    "        dec = dec.replace(\"+\", \"m\")\n",
    "    if '/' in dec:\n",
    "        dec = dec.replace(\"/\", \"\")\n",
    "\n",
    "    ra1 = ra.split(':')\n",
    "    dec1 = dec.split(':')\n",
    "    sep = '-'\n",
    "    ra = sep.join(ra1)\n",
    "    dec = sep.join(dec1)\n",
    "    return ra,dec"
   ]
  },
  {
   "cell_type": "code",
   "execution_count": null,
   "id": "5ab41e3c",
   "metadata": {},
   "outputs": [],
   "source": [
    "# Changing the Format of Meta Data to match the NASA Horizons Database Input Format ###\n",
    "ra,dec = convert(RA, DEC)\n",
    "fov1 = str((FOV/60)/2)\n",
    "fov2 = str((FOV/60)/2)\n",
    "mpc = 'E10'\n",
    "ra = ra[0:10]\n",
    "dec = dec[0:10]"
   ]
  },
  {
   "cell_type": "code",
   "execution_count": null,
   "id": "a3704509",
   "metadata": {},
   "outputs": [],
   "source": [
    "### Querying for Didymos in each Image ###\n",
    "asteroids = []\n",
    "ast_catalog_mag = []\n",
    "for s in tqdm(range(len(headers))):\n",
    "    date, time = DATE[s].split('T')\n",
    "    if '.' in time:\n",
    "        time = time.split('.')\n",
    "        time = time[0]\n",
    "        \n",
    "    asteroid_query = known_asteroid_finder(date, time, fov1, fov2, mpc, ra, dec)\n",
    "    \n",
    "    response_API = requests.get(asteroid_query)\n",
    "    data = response_API.text\n",
    "\n",
    "    data = data.split('[')\n",
    "    \n",
    "    for i in (range(len(data)-3)):\n",
    "        ast = data[i + 3]\n",
    "        ast = ast.split(',')\n",
    "        \n",
    "        a = data[i+3].split('\"')\n",
    "        if a[1] == \"65803 Didymos (1996 GT)\":\n",
    "            Asteroid = a\n",
    "        \n",
    "            x,y = convert(a[3],a[5])\n",
    "        ast_catalog_mag.append(a[14])\n",
    "    asteroids.append([x,y])"
   ]
  },
  {
   "cell_type": "code",
   "execution_count": null,
   "id": "c9c4fc02",
   "metadata": {},
   "outputs": [],
   "source": [
    "### Converting RA and Dec of Didymos to Format recognized by my Algorithm ###\n",
    "def convert(ra,dec):\n",
    "    if '+' in dec:\n",
    "        dec = dec.replace(\"+\", \"\")\n",
    "    if '-' in dec:\n",
    "        dec = dec.replace(\"-\", \"m\")\n",
    "  \n",
    "\n",
    "    ra1 = ra.split(' ')\n",
    "    dec1 = dec.split(' ')\n",
    "    sep = '-'\n",
    "    ra = sep.join(ra1)\n",
    "    dec = sep.join(dec1)\n",
    "    return ra,dec"
   ]
  },
  {
   "cell_type": "code",
   "execution_count": null,
   "id": "56f1ba1c",
   "metadata": {},
   "outputs": [],
   "source": [
    "X,Y = convert(x,y)"
   ]
  },
  {
   "cell_type": "code",
   "execution_count": null,
   "id": "0f36aec7",
   "metadata": {},
   "outputs": [],
   "source": [
    "### Finding Didymos RA, DEC, and magnitude from Data Queried ###\n",
    "Didymos_ra = []\n",
    "Didymos_dec = []\n",
    "\n",
    "for a,b in asteroids:\n",
    "    x1 = []\n",
    "    y1 = []\n",
    "    for i in a:\n",
    "        try:\n",
    "            i = int(i)\n",
    "            x1.append(str(i))\n",
    "            \n",
    "        except:\n",
    "            pass\n",
    "        \n",
    "    x1.insert(2, ' ')\n",
    "    x1.insert(5, ' ')\n",
    "    if len(a)>8:\n",
    "        x1.insert(8, '.')\n",
    "    \n",
    "    x1 = ''.join(str(e) for e in x1)\n",
    "    \n",
    "    for i2 in b:\n",
    "        try:\n",
    "            y1.append(int(i2))\n",
    "        except:\n",
    "            pass\n",
    "        \n",
    "    y1.insert(2, ' ')\n",
    "    y1.insert(5, ' ')\n",
    "    if len(b)>8:\n",
    "        y1.insert(8, '.')\n",
    "    \n",
    "    y1 = ''.join(str(e) for e in y1)\n",
    "    \n",
    "    Didymos_ra.append(x1)\n",
    "    Didymos_dec.append(y1)"
   ]
  },
  {
   "cell_type": "code",
   "execution_count": null,
   "id": "a7f00303",
   "metadata": {},
   "outputs": [],
   "source": [
    "Didymos_ra1 = []\n",
    "Didymos_dec1 = []\n",
    "for i in range(len(Didymos_ra)):\n",
    "    Didymos_ra1.append(RAtoDeg(Didymos_ra[i]))\n",
    "    Didymos_dec1.append(DECtoDeg(Didymos_dec[i]))"
   ]
  },
  {
   "cell_type": "code",
   "execution_count": null,
   "id": "b64a7835",
   "metadata": {},
   "outputs": [],
   "source": [
    "### Converting RA and DEC of Known Asteroids to Pixel Cordinates ###\n",
    "x_y_didymos = []\n",
    "didymos_x = []\n",
    "didymos_y = []\n",
    "\n",
    "wcs = WCS(headers[0])\n",
    "\n",
    "for ra1,dec1 in zip(Didymos_ra1, Didymos_dec1):\n",
    "    \n",
    "    c = SkyCoord(ra1, dec1, frame='icrs', unit='deg')\n",
    "    x, y = wcs.world_to_pixel(c)\n",
    "    \n",
    "    didymos_x.append(x)\n",
    "    didymos_y.append(y)\n",
    "    x = 0\n",
    "    y = 0"
   ]
  },
  {
   "cell_type": "markdown",
   "id": "a74da143",
   "metadata": {},
   "source": [
    "### 7. Centroiding all Celestial Objects (Known Stars as well as Didymos)"
   ]
  },
  {
   "cell_type": "code",
   "execution_count": null,
   "id": "66f2ede3",
   "metadata": {},
   "outputs": [],
   "source": [
    "### Using Weighted Mean to Calculate Accurate Centroiding of Each Celestial Object ###\n",
    "\n",
    "def find_complete_obj(image,x,y):\n",
    "\n",
    "    centroided_coords = []\n",
    "    \n",
    "    #print(y)\n",
    "    background = np.mean(image_data)\n",
    "    \n",
    "    \n",
    "    for b,a in zip(x,y):\n",
    "        a = int(a)\n",
    "        b = int(b)\n",
    "        n = 12\n",
    "        square = image[a-n:a+n, b-n:b+n]\n",
    "        \n",
    "        weighted_x = []\n",
    "        weighted_y = []\n",
    "        \n",
    "        for xc in range(len(square)):\n",
    "            for yc in range(len(square[xc])):\n",
    "                weighted_x.append((square[xc,yc]**1)*(a+xc))\n",
    "                weighted_y.append((square[xc,yc]**1)*(b+yc))\n",
    "                \n",
    "        x_centroid = np.sum(weighted_x)/np.sum(square**1)\n",
    "        y_centroid = np.sum(weighted_y)/np.sum(square**1)\n",
    "        \n",
    "        centroided_coords.append([y_centroid-n, x_centroid-n])\n",
    "        \n",
    "    return centroided_coords\n",
    "        "
   ]
  },
  {
   "cell_type": "code",
   "execution_count": null,
   "id": "712c7ca4",
   "metadata": {},
   "outputs": [],
   "source": [
    "centroids = np.array(find_complete_obj(image_data, star_x,star_y))\n",
    "centroids_didy = (np.array(find_complete_obj(images[i], didymos_x, didymos_y)))"
   ]
  },
  {
   "cell_type": "code",
   "execution_count": null,
   "id": "ba8159e1",
   "metadata": {},
   "outputs": [],
   "source": [
    "### Show Position of all Celestial Objects on Each Image ###\n",
    "\n",
    "for i in range(len(images)):\n",
    "    image_data = images[i]\n",
    "    plt.figure(figsize=(15, 15))\n",
    "    \n",
    "    plt.imshow(image_data, cmap='gray', vmin=image_data.mean()-0.2*image_data.std(), vmax=image_data.mean()+0.2*image_data.std())\n",
    "\n",
    "    \n",
    "    plt.scatter(centroids_didy[i][0], centroids_didy[i][1], 10)\n",
    "    plt.scatter(centroids[:,0], centroids[:,1], 10)\n",
    "\n",
    "    plt.show()"
   ]
  }
 ],
 "metadata": {
  "kernelspec": {
   "display_name": "Python 3 (ipykernel)",
   "language": "python",
   "name": "python3"
  },
  "language_info": {
   "codemirror_mode": {
    "name": "ipython",
    "version": 3
   },
   "file_extension": ".py",
   "mimetype": "text/x-python",
   "name": "python",
   "nbconvert_exporter": "python",
   "pygments_lexer": "ipython3",
   "version": "3.10.8"
  }
 },
 "nbformat": 4,
 "nbformat_minor": 5
}
